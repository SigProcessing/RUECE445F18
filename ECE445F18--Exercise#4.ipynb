{
 "cells": [
  {
   "cell_type": "markdown",
   "metadata": {},
   "source": [
    "## Mini Jupyter Exercise #4\n",
    "\n",
    "### Train and Test Split"
   ]
  },
  {
   "cell_type": "code",
   "execution_count": 1,
   "metadata": {},
   "outputs": [],
   "source": [
    "from sklearn.datasets import load_digits\n",
    "images, labels = load_digits(2, return_X_y=True)\n",
    "\n",
    "# Labeled training set\n",
    "training_images = images[:300]\n",
    "training_labels = labels[:300]\n",
    "\n",
    "# Labeled test set\n",
    "test_images = images[300:]\n",
    "test_labels = labels[300:]"
   ]
  },
  {
   "cell_type": "markdown",
   "metadata": {},
   "source": [
    "### k-Nearest Neighbor (k-NN) Classification Using 2-D Features\n",
    "\n",
    "#### Problem 1: Computing of the Top-two Principal Components and Two-dimensional (Training) Feature Vectors"
   ]
  },
  {
   "cell_type": "code",
   "execution_count": 3,
   "metadata": {},
   "outputs": [
    {
     "data": {
      "image/png": "[encoded data removed]",
      "text/plain": [
       "<Figure size 432x288 with 1 Axes>"
      ]
     },
     "metadata": {
      "needs_background": "light"
     },
     "output_type": "display_data"
    }
   ],
   "source": [
    "import numpy as np\n",
    "from matplotlib import pyplot as plt\n",
    "\n",
    "# Arranging training data so that each sample is a column in the data matrix\n",
    "X = training_images.T # Data matrix\n",
    "\n",
    "# Computation of the empirical mean of data, both as a vector and as a tiled matrix\n",
    "mean_vec = X.mean(axis = 1)\n",
    "mean_mat = np.tile(mean_vec.reshape(X.shape[0],1),[1,X.shape[1]])\n",
    "\n",
    "# Centered data matrix\n",
    "centered_X = X - mean_mat\n",
    "\n",
    "# Singular value decomposition of centered data\n",
    "U, s, Vh = np.linalg.svd(centered_X)\n",
    "\n",
    "# Matrix of the top two principal components of the centered data matrix\n",
    "U_2 = U[:,0:2]\n",
    "\n",
    "# Compute the PCA-based features of the centered data using the top-two principal components\n",
    "X_tilde = U_2.T@centered_X\n",
    "\n",
    "# Scatter plot for digits '0' and '1' using the two-dimensional PCA features\n",
    "plt.scatter(X_tilde.T[np.where(training_labels==0),0],X_tilde.T[np.where(training_labels==0),1],c='r',marker='o')\n",
    "plt.scatter(X_tilde.T[np.where(training_labels==1),0],X_tilde.T[np.where(training_labels==1),1],c='g',marker='s')\n",
    "plt.show()"
   ]
  },
  {
   "cell_type": "markdown",
   "metadata": {},
   "source": [
    "#### Problem 2: Computing of Two-dimensional Feature Vectors for Test Data"
   ]
  },
  {
   "cell_type": "code",
   "execution_count": 4,
   "metadata": {},
   "outputs": [],
   "source": [
    "# Arranging test data so that each sample is a column in the data matrix\n",
    "X_test = test_images.T\n",
    "\n",
    "# Appropriate shaping of the empirical mean as a tiled matrix whose dimensions match those of test data matrix\n",
    "mean_mat = np.tile(mean_vec.reshape(X_test.shape[0],1),[1,X_test.shape[1]])\n",
    "\n",
    "# Centered test data matrix\n",
    "centered_X_test = X_test - mean_mat\n",
    "\n",
    "# Compute the PCA-based features of the centered test data using the top-two principal components\n",
    "X_tilde_test = U_2.T@centered_X_test"
   ]
  },
  {
   "cell_type": "markdown",
   "metadata": {},
   "source": [
    "#### Classification of Test Data Using k-NN (k=5)"
   ]
  },
  {
   "cell_type": "code",
   "execution_count": 5,
   "metadata": {},
   "outputs": [
    {
     "data": {
      "image/png": "[encoded data removed]",
      "text/plain": [
       "<Figure size 432x288 with 1 Axes>"
      ]
     },
     "metadata": {
      "needs_background": "light"
     },
     "output_type": "display_data"
    }
   ],
   "source": [
    "def kNN_clf(X, X_labels, k, test_x):\n",
    "    \"\"\"\n",
    "    k-Nearest Neigbor classifer that returns either label '0' or label '1'\n",
    "    Inputs: \n",
    "        X: Training data matrix\n",
    "        X_labels: Labels for the training data matrix\n",
    "        k: Number of nearest neighbors in k-NN (Euclidean distance)\n",
    "        test_x: Test sample\n",
    "    Ouput: test_label: Estimated label for test_x \n",
    "    \"\"\"\n",
    "    # Compute distances between all training samples and the test sample\n",
    "    dist = np.array([np.linalg.norm(test_x - X[:,i]) for i in range(X.shape[1])])\n",
    "    \n",
    "    # Sort the distances and find the indices of the k-NNs\n",
    "    sorted_dist_ind = dist.argsort() # Sorting\n",
    "    kNN_labels = X_labels[sorted_dist_ind[0:k]] # Indices\n",
    "    \n",
    "    # Return the label that occurs most frequently within the k-NNs\n",
    "    if np.size(np.where(kNN_labels==0)) >= np.size(np.where(kNN_labels==1)):\n",
    "        return 0\n",
    "    else:\n",
    "        return 1\n",
    "    \n",
    "# Estimated labels returned by the k-NN classifier\n",
    "est_labels = np.array([kNN_clf(X_tilde,training_labels,5,X_tilde_test[:,i]) for i in range(X_tilde_test.shape[1])])\n",
    "\n",
    "# Accuracy of the predicted labels\n",
    "acc_label = np.equal(est_labels,test_labels)\n",
    "\n",
    "# Scatter plot for training digits '0' and '1' using the two-dimensional PCA features\n",
    "plt.scatter(X_tilde.T[np.where(training_labels==0),0],X_tilde.T[np.where(training_labels==0),1],c='r',marker='o')\n",
    "plt.scatter(X_tilde.T[np.where(training_labels==1),0],X_tilde.T[np.where(training_labels==1),1],c='g',marker='s')\n",
    "\n",
    "# Scatter plot for test digits '0' and '1,' coded as 'blue' for correct classification and 'black' for incorrect classification\n",
    "plt.scatter(X_tilde_test.T[np.where(acc_label==True),0],X_tilde_test.T[np.where(acc_label==True),1],c='b',marker='^')\n",
    "plt.scatter(X_tilde_test.T[np.where(acc_label==False),0],X_tilde_test.T[np.where(acc_label==False),1],c='k',marker='d')\n",
    "plt.show()"
   ]
  },
  {
   "cell_type": "markdown",
   "metadata": {},
   "source": [
    "We can see from the above scatter plot, which overlays the test two-dimensional data on top of the training two-dimensional data that the top-two principal components of the data are sufficient to separate digits '0' and '1' in the PCA space. In particular, using $k=5$ results in zero classification errors.\n",
    "\n",
    "#### Problem 3: Computation of the Average Classification Error"
   ]
  },
  {
   "cell_type": "code",
   "execution_count": 6,
   "metadata": {},
   "outputs": [
    {
     "data": {
      "text/latex": [
       "The average classification error for this $k$-NN problem using $k=5$ is 0.0."
      ],
      "text/plain": [
       "<IPython.core.display.Latex object>"
      ]
     },
     "metadata": {},
     "output_type": "display_data"
    }
   ],
   "source": [
    "from IPython.display import display, Latex\n",
    "\n",
    "# Calculation of the average classification error\n",
    "ave_clf_err = (np.size(np.where(acc_label==False)))/acc_label.size\n",
    "\n",
    "# Printing of the average classification error\n",
    "display(Latex(r'The average classification error for this $k$-NN problem using $k=5$ is {}.'.format(ave_clf_err)))"
   ]
  },
  {
   "cell_type": "markdown",
   "metadata": {},
   "source": [
    "### k-NN Classification Using Higher-dimensional Features\n",
    "\n",
    "#### Problem 1: Feature Learning of Training and Test Data\n",
    "\n",
    "We have already centered the (training) data and computed its singular value decomposition. At this stage, we simply need to find out the value of $r$ that captures 95\\% of the variation in the data."
   ]
  },
  {
   "cell_type": "code",
   "execution_count": 7,
   "metadata": {},
   "outputs": [
    {
     "data": {
      "text/latex": [
       "The calculated value of the integer $r$ is 19."
      ],
      "text/plain": [
       "<IPython.core.display.Latex object>"
      ]
     },
     "metadata": {},
     "output_type": "display_data"
    }
   ],
   "source": [
    "# Computation of an appropriate 'r'\n",
    "r = 0; cum_sum = 0\n",
    "data_energy = np.linalg.norm(centered_X)**2\n",
    "for i in range(len(s)):\n",
    "    cum_sum = cum_sum + s[i]**2\n",
    "    if cum_sum/data_energy >= 0.95:\n",
    "        r = i+1\n",
    "        break\n",
    "        \n",
    "# Print the value of r\n",
    "display(Latex(r'The calculated value of the integer $r$ is {}.'.format(r)))\n",
    "\n",
    "# Matrix of the top-r principal components of the centered data matrix\n",
    "U_r = U[:,0:r]\n",
    "\n",
    "# Compute the PCA-based features of the centered data using the top-r principal components\n",
    "X_tilde = U_r.T@centered_X\n",
    "\n",
    "# Compute the PCA-based features of the centered test data using the top-r principal components\n",
    "X_tilde_test = U_r.T@centered_X_test"
   ]
  },
  {
   "cell_type": "markdown",
   "metadata": {},
   "source": [
    "#### Problem 2: Classification Using k-NN and Selection of the \"Best\" k"
   ]
  },
  {
   "cell_type": "code",
   "execution_count": 8,
   "metadata": {},
   "outputs": [
    {
     "data": {
      "image/png": "[encoded data removed]",
      "text/plain": [
       "<Figure size 432x288 with 1 Axes>"
      ]
     },
     "metadata": {
      "needs_background": "light"
     },
     "output_type": "display_data"
    }
   ],
   "source": [
    "# The values of k that need to be tried for k-NN classification\n",
    "k = np.array([i for i in range(1,10,2)])\n",
    "\n",
    "# Container for average classification errors as a function of k\n",
    "ave_clf_err = np.empty(k.size)\n",
    "\n",
    "# k-NN classification\n",
    "for idx, val_k in zip(range(k.size),k):\n",
    "    # Estimated labels returned by the k-NN classifier\n",
    "    est_labels = np.array([kNN_clf(X_tilde,training_labels,val_k,X_tilde_test[:,i]) for i in range(X_tilde_test.shape[1])])\n",
    "    # Accuracy of the predicted labels\n",
    "    acc_label = np.equal(est_labels,test_labels)\n",
    "    # Calculation of the average classification error\n",
    "    ave_clf_err[idx] = (np.size(np.where(acc_label==False)))/acc_label.size\n",
    "    \n",
    "# Plot of the average classification error as a function of the values of k\n",
    "plt.plot(k, ave_clf_err, 'b-s')\n",
    "plt.xlabel('k in k-NN classification')\n",
    "plt.ylabel('Average classification error')\n",
    "plt.show()"
   ]
  },
  {
   "cell_type": "markdown",
   "metadata": {},
   "source": [
    "We can see from the above classification error plot that even $k=1$ is sufficient to perfectly distinguish between digits '0' and '1' in $r=19$ dimensional PCA space. We can therefore limit oursleves to $k=1$ for $k$-NN classification for this particular problem setup.\n",
    "\n",
    "**_Caution:_** We learned about the concept of cross-validation in a future class, which is what we should really be using to determine the right value of $k$ in practical machine learning systems."
   ]
  }
 ],
 "metadata": {
  "kernelspec": {
   "display_name": "Python 3",
   "language": "python",
   "name": "python3"
  },
  "language_info": {
   "codemirror_mode": {
    "name": "ipython",
    "version": 3
   },
   "file_extension": ".py",
   "mimetype": "text/x-python",
   "name": "python",
   "nbconvert_exporter": "python",
   "pygments_lexer": "ipython3",
   "version": "3.7.0"
  }
 },
 "nbformat": 4,
 "nbformat_minor": 2
}
